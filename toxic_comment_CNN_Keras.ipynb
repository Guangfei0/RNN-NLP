{
 "cells": [
  {
   "cell_type": "markdown",
   "metadata": {
    "collapsed": true
   },
   "source": [
    "- The following codes are for the Kaggle test: Toxic Comment Classification Challenge.\n",
    "- Description: \"In this competition, you’re challenged to build a multi-headed model that’s capable of detecting different types of of toxicity like threats, obscenity, insults, and identity-based hate. You’ll be using a dataset of comments from Wikipedia’s talk page edits. \n",
    "- Dataset: https://www.kaggle.com/c/jigsaw-toxic-comment-classification-challenge\n",
    "- Approach: CNN with 3 convolutional layers, 3 pooling layers and 1 dense layer"
   ]
  },
  {
   "cell_type": "code",
   "execution_count": 9,
   "metadata": {
    "collapsed": true
   },
   "outputs": [],
   "source": [
    "import os\n",
    "import sys\n",
    "import numpy as np\n",
    "import pandas as pd\n",
    "import matplotlib.pyplot as plt\n",
    "from keras.preprocessing.text import Tokenizer\n",
    "from keras.preprocessing.sequence import pad_sequences\n",
    "from keras.models import Model\n",
    "from keras.layers import Dense, Input, GlobalMaxPooling1D\n",
    "from keras.layers import Conv1D, MaxPooling1D, Embedding\n",
    "from sklearn.metrics import roc_auc_score"
   ]
  },
  {
   "cell_type": "code",
   "execution_count": 4,
   "metadata": {
    "collapsed": true
   },
   "outputs": [],
   "source": [
    "# Configuration\n",
    "max_sequence_length = 100 # for sequence padding\n",
    "max_vocab_size = 20000 \n",
    "embedding_dim = 100 # word embedding size\n",
    "validation_split = 0.2 # proportion of validation set in training dataset\n",
    "batch_size = 128\n",
    "epochs = 10"
   ]
  },
  {
   "cell_type": "code",
   "execution_count": 7,
   "metadata": {},
   "outputs": [
    {
     "name": "stdout",
     "output_type": "stream",
     "text": [
      "number of word vectors: 400000\n"
     ]
    }
   ],
   "source": [
    "# Prepare word embedding\n",
    "# glove pretrained word embedding\n",
    "# word vectors can be downloaded from \"http://nlp.stanford.edu/data/glove.6B.zip\"\n",
    "# load in pre-trained word vectors\n",
    "# glove offers different word embedding size, here I use 100 as specified in embedding_dim\n",
    "word2vec = {}\n",
    "with open(os.path.join('../large_files/glove.6B/glove.6B.%sd.txt' % embedding_dim)) as f:\n",
    "    for line in f:\n",
    "        values = line.split()\n",
    "        word = values[0]\n",
    "        vec = np.asarray(values[1:], dtype = 'float32')\n",
    "        word2vec[word] = vec\n",
    "print('number of word vectors: %s' % len(word2vec))"
   ]
  },
  {
   "cell_type": "code",
   "execution_count": 10,
   "metadata": {},
   "outputs": [],
   "source": [
    "# Prepare text samples and corresponding multi-headed labels\n",
    "train = pd.read_csv(\"../large_files/toxic-comment/train.csv\")\n",
    "sentences = train[\"comment_text\"].fillna(\"DUMMY_VALUE\").values\n",
    "possible_labels = ['toxic', 'severe_toxic', 'obscene', 'threat', 'insult', 'identity_hate']\n",
    "targets = train[possible_labels].values"
   ]
  },
  {
   "cell_type": "code",
   "execution_count": 20,
   "metadata": {
    "collapsed": true
   },
   "outputs": [],
   "source": [
    "# convert sentences(strings) into integers\n",
    "tokenizer = Tokenizer(num_words = max_vocab_size)\n",
    "tokenizer.fit_on_texts(sentences)\n",
    "sequences = tokenizer.texts_to_sequences(sentences) # a list of lists where each sublist is word indexes\n",
    "s = sorted(len(s) for s in sequences)"
   ]
  },
  {
   "cell_type": "code",
   "execution_count": 22,
   "metadata": {
    "collapsed": true
   },
   "outputs": [],
   "source": [
    "# word to idx mapping\n",
    "word2idx = tokenizer.word_index"
   ]
  },
  {
   "cell_type": "code",
   "execution_count": 26,
   "metadata": {},
   "outputs": [
    {
     "name": "stdout",
     "output_type": "stream",
     "text": [
      "shape of data: (159571, 100)\n"
     ]
    }
   ],
   "source": [
    "# pad sequences to get a NxT matrix, N = # of comments, T = length of each comment\n",
    "data = pad_sequences(sequences, maxlen = max_sequence_length)\n",
    "print(\"shape of data:\", data.shape)"
   ]
  },
  {
   "cell_type": "code",
   "execution_count": 27,
   "metadata": {
    "collapsed": true
   },
   "outputs": [],
   "source": [
    "# prepare embedding matrix\n",
    "num_words = min(max_vocab_size, len(word2idx) + 1)\n",
    "embedding_matrix = np.zeros((num_words, embedding_dim))\n",
    "for word, i in word2idx.items():\n",
    "    if i < max_vocab_size:\n",
    "        embedding_vector = word2vec.get(word)\n",
    "        if embedding_vector is not None:\n",
    "            embedding_matrix[i] = embedding_vector"
   ]
  },
  {
   "cell_type": "code",
   "execution_count": 28,
   "metadata": {
    "collapsed": true
   },
   "outputs": [],
   "source": [
    "# Create Embedding layer with pre-trained word embeddings\n",
    "# Do not train embeddings with trainable = False \n",
    "embedding_layer = Embedding(\n",
    "    input_dim = num_words,\n",
    "    output_dim = embedding_dim,\n",
    "    weights = [embedding_matrix],\n",
    "    input_length = max_sequence_length,\n",
    "    trainable = False\n",
    ")"
   ]
  },
  {
   "cell_type": "code",
   "execution_count": 31,
   "metadata": {},
   "outputs": [
    {
     "name": "stdout",
     "output_type": "stream",
     "text": [
      "Train on 127656 samples, validate on 31915 samples\n",
      "Epoch 1/10\n",
      "127656/127656 [==============================] - 114s 896us/step - loss: 0.0847 - acc: 0.9729 - val_loss: 0.0845 - val_acc: 0.9728\n",
      "Epoch 2/10\n",
      "127656/127656 [==============================] - 108s 842us/step - loss: 0.0680 - acc: 0.9771 - val_loss: 0.0728 - val_acc: 0.9768\n",
      "Epoch 3/10\n",
      "127656/127656 [==============================] - 112s 880us/step - loss: 0.0634 - acc: 0.9785 - val_loss: 0.0690 - val_acc: 0.9768\n",
      "Epoch 4/10\n",
      "127656/127656 [==============================] - 108s 848us/step - loss: 0.0603 - acc: 0.9790 - val_loss: 0.0670 - val_acc: 0.9771\n",
      "Epoch 5/10\n",
      "127656/127656 [==============================] - 109s 857us/step - loss: 0.0576 - acc: 0.9799 - val_loss: 0.0715 - val_acc: 0.9774\n",
      "Epoch 6/10\n",
      "127656/127656 [==============================] - 110s 859us/step - loss: 0.0557 - acc: 0.9802 - val_loss: 0.0707 - val_acc: 0.9773\n",
      "Epoch 7/10\n",
      "127656/127656 [==============================] - 109s 852us/step - loss: 0.0537 - acc: 0.9808 - val_loss: 0.0930 - val_acc: 0.9767\n",
      "Epoch 8/10\n",
      "127656/127656 [==============================] - 113s 884us/step - loss: 0.0526 - acc: 0.9812 - val_loss: 0.0766 - val_acc: 0.9772\n",
      "Epoch 9/10\n",
      "127656/127656 [==============================] - 109s 854us/step - loss: 0.0513 - acc: 0.9816 - val_loss: 0.0762 - val_acc: 0.9774\n",
      "Epoch 10/10\n",
      "127656/127656 [==============================] - 109s 853us/step - loss: 0.0503 - acc: 0.9820 - val_loss: 0.0898 - val_acc: 0.9718\n"
     ]
    }
   ],
   "source": [
    "# train 1D convnet\n",
    "input_ = Input(shape = (max_sequence_length,))\n",
    "x = embedding_layer(input_)\n",
    "x = Conv1D(filters = 128, kernel_size = 3, activation = 'relu')(x)\n",
    "x = MaxPooling1D(pool_size = 3)(x)\n",
    "x = Conv1D(filters = 128, kernel_size = 3, activation = 'relu')(x)\n",
    "x = MaxPooling1D(pool_size = 3)(x)\n",
    "x = Conv1D(filters = 128, kernel_size = 3, activation = 'relu')(x)\n",
    "x = GlobalMaxPooling1D()(x)\n",
    "x = Dense(128, activation = 'relu')(x)\n",
    "# multi-headed labels, do multi-separate bineary classification\n",
    "output = Dense(len(possible_labels), activation = 'sigmoid')(x) \n",
    "\n",
    "model = Model(input_, output)\n",
    "model.compile(\n",
    "    loss = 'binary_crossentropy',\n",
    "    optimizer = 'rmsprop',\n",
    "    metrics = ['accuracy']\n",
    "             )\n",
    "r = model.fit(\n",
    "    data,\n",
    "    targets,\n",
    "    batch_size = batch_size,\n",
    "    epochs = epochs,\n",
    "    validation_split = validation_split\n",
    ")"
   ]
  },
  {
   "cell_type": "code",
   "execution_count": 32,
   "metadata": {},
   "outputs": [
    {
     "data": {
      "image/png": "[encoded data removed]",
      "text/plain": [
       "<matplotlib.figure.Figure at 0x1a20ff2390>"
      ]
     },
     "metadata": {},
     "output_type": "display_data"
    },
    {
     "data": {
      "image/png": "[encoded data removed]",
      "text/plain": [
       "<matplotlib.figure.Figure at 0x1a20f2e630>"
      ]
     },
     "metadata": {},
     "output_type": "display_data"
    }
   ],
   "source": [
    "# plot the loss for training data and validation set\n",
    "plt.plot(r.history['loss'], label = 'loss')\n",
    "plt.plot(r.history['val_loss'], label = 'validation_loss')\n",
    "plt.legend()\n",
    "plt.show()\n",
    "\n",
    "plt.plot(r.history['acc'], label = 'accuracy')\n",
    "plt.plot(r.history['val_acc'], label = 'validation_accuracy')\n",
    "plt.legend()\n",
    "plt.show()"
   ]
  },
  {
   "cell_type": "code",
   "execution_count": 34,
   "metadata": {},
   "outputs": [
    {
     "name": "stdout",
     "output_type": "stream",
     "text": [
      "0.9684481030082573\n"
     ]
    }
   ],
   "source": [
    "# calculate the mean AUC over each label\n",
    "p = model.predict(data)\n",
    "aucs = []\n",
    "for j in range(len(possible_labels)):\n",
    "    auc = roc_auc_score(targets[:,j], p[:,j]) # p of size: N x num of labels\n",
    "    aucs.append(auc)\n",
    "print(np.mean(aucs))"
   ]
  },
  {
   "cell_type": "code",
   "execution_count": null,
   "metadata": {
    "collapsed": true
   },
   "outputs": [],
   "source": []
  }
 ],
 "metadata": {
  "kernelspec": {
   "display_name": "Python 3",
   "language": "python",
   "name": "python3"
  },
  "language_info": {
   "codemirror_mode": {
    "name": "ipython",
    "version": 3
   },
   "file_extension": ".py",
   "mimetype": "text/x-python",
   "name": "python",
   "nbconvert_exporter": "python",
   "pygments_lexer": "ipython3",
   "version": "3.6.3"
  }
 },
 "nbformat": 4,
 "nbformat_minor": 2
}
