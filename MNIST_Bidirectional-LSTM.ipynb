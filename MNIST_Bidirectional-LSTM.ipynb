{
 "cells": [
  {
   "cell_type": "markdown",
   "metadata": {},
   "source": [
    "- Image classification (MNIST digits recognition)\n",
    "- Approach: Bidirectional-LSTM on original pictures and rotated pictures to process pictures from 4 directions\n",
    "- Result: with 5 epochs, training accuracy = 0.9646, validation accuracy = 0.9627, training loss = 0.1219, validation loss = 0.1239"
   ]
  },
  {
   "cell_type": "code",
   "execution_count": 3,
   "metadata": {},
   "outputs": [],
   "source": [
    "import os\n",
    "import numpy as np\n",
    "import pandas as pd\n",
    "import matplotlib.pyplot as plt\n",
    "from keras.models import Model\n",
    "from keras.layers import GRU, Bidirectional, GlobalMaxPooling1D\n",
    "from keras.layers import Input, LSTM, Lambda, Concatenate, Dense\n",
    "import keras.backend as K"
   ]
  },
  {
   "cell_type": "code",
   "execution_count": 4,
   "metadata": {
    "collapsed": true
   },
   "outputs": [],
   "source": [
    "if len(K.tensorflow_backend._get_available_gpus()) > 0:\n",
    "    # CuDNNLSTM: Fast LSTM implementation backed by CuDNN\n",
    "    # Can only be run on GPU, with the TensorFlow backend.\n",
    "    from keras.layers import CuDNNLSTM as LSTM \n",
    "    from keras.layers import CuDNNGRU as GRU"
   ]
  },
  {
   "cell_type": "code",
   "execution_count": 7,
   "metadata": {
    "collapsed": true
   },
   "outputs": [],
   "source": [
    "# load in MNIST dataset\n",
    "def get_mnist(limit = None):\n",
    "    if not os.path.exists('../large_files/MNIST/train.csv'):\n",
    "        print(\"Please download MNIST dataset from https://www.kaggle.com/c/digit-recognizer\")\n",
    "    \n",
    "    print(\"Loading in and transforming data...\")\n",
    "    df = pd.read_csv('../large_files/MNIST/train.csv')\n",
    "    data = df.values\n",
    "    np.random.shuffle(data)\n",
    "    X = data[:, 1:].reshape(-1, 28, 28) / 255.0\n",
    "    Y = data[:, 0]\n",
    "    if limit is not None:\n",
    "        X, Y = X[:limit], Y[:limit]\n",
    "    return X, Y"
   ]
  },
  {
   "cell_type": "code",
   "execution_count": 8,
   "metadata": {},
   "outputs": [
    {
     "name": "stdout",
     "output_type": "stream",
     "text": [
      "Loading in and transforming data...\n",
      "(42000, 28, 28)\n",
      "(42000,)\n"
     ]
    }
   ],
   "source": [
    "X, Y = get_mnist(limit = None)\n",
    "print(X.shape)\n",
    "print(Y.shape)"
   ]
  },
  {
   "cell_type": "code",
   "execution_count": 9,
   "metadata": {
    "collapsed": true
   },
   "outputs": [],
   "source": [
    "# Configuration\n",
    "D = 28\n",
    "M = 15 # hidden layer units"
   ]
  },
  {
   "cell_type": "code",
   "execution_count": 11,
   "metadata": {},
   "outputs": [],
   "source": [
    "# Bidirectional-LSTM\n",
    "input_ = Input(shape = (D, D))\n",
    "\n",
    "# bottom-top 2 directions\n",
    "rnn1 = Bidirectional(LSTM(M, return_sequences = True))\n",
    "x1 = rnn1(input_) # size: N x D x 2M\n",
    "x1 = GlobalMaxPooling1D()(x1) # size: N x 2M\n",
    "\n",
    "# left-right 2 directions\n",
    "rnn2 = Bidirectional(LSTM(M, return_sequences = True))\n",
    "# layer for rotating pictures\n",
    "rotate_layer = Lambda(lambda t: K.permute_dimensions(t, pattern = (0,2,1)))\n",
    "x2 = rotate_layer(input_)\n",
    "x2 = rnn2(x2) # size: N x D x 2M\n",
    "x2 = GlobalMaxPooling1D()(x2) # size: N x 2M\n",
    "\n",
    "# concatenate\n",
    "concatenator = Concatenate(axis = 1)\n",
    "x = concatenator([x1, x2]) # size: N x 4M\n",
    "\n",
    "# dense layer\n",
    "output = Dense(10, activation = 'softmax')(x)\n",
    "\n",
    "model = Model(inputs = input_, outputs = output)\n",
    "model.compile(\n",
    "    # use 'sparse_...' loss to avoiding one-hot encoding labels\n",
    "    loss = 'sparse_categorical_crossentropy',\n",
    "    optimizer = 'adam',\n",
    "    metrics = ['accuracy']\n",
    ")"
   ]
  },
  {
   "cell_type": "code",
   "execution_count": 12,
   "metadata": {},
   "outputs": [
    {
     "name": "stdout",
     "output_type": "stream",
     "text": [
      "Train on 29399 samples, validate on 12601 samples\n",
      "Epoch 1/5\n",
      "29399/29399 [==============================] - 52s 2ms/step - loss: 0.7770 - acc: 0.8033 - val_loss: 0.3076 - val_acc: 0.9200\n",
      "Epoch 2/5\n",
      "29399/29399 [==============================] - 50s 2ms/step - loss: 0.2472 - acc: 0.9313 - val_loss: 0.2084 - val_acc: 0.9417\n",
      "Epoch 3/5\n",
      "29399/29399 [==============================] - 50s 2ms/step - loss: 0.1760 - acc: 0.9496 - val_loss: 0.1576 - val_acc: 0.9548\n",
      "Epoch 4/5\n",
      "29399/29399 [==============================] - 50s 2ms/step - loss: 0.1411 - acc: 0.9594 - val_loss: 0.1430 - val_acc: 0.9558\n",
      "Epoch 5/5\n",
      "29399/29399 [==============================] - 49s 2ms/step - loss: 0.1219 - acc: 0.9646 - val_loss: 0.1239 - val_acc: 0.9627\n"
     ]
    }
   ],
   "source": [
    "# train the model\n",
    "r = model.fit(X, Y, batch_size = 32, epochs = 5, validation_split = 0.3)"
   ]
  },
  {
   "cell_type": "code",
   "execution_count": 14,
   "metadata": {},
   "outputs": [
    {
     "data": {
      "image/png": "[encoded data removed]",
      "text/plain": [
       "<matplotlib.figure.Figure at 0x10fd0df98>"
      ]
     },
     "metadata": {},
     "output_type": "display_data"
    },
    {
     "data": {
      "image/png": "[encoded data removed]",
      "text/plain": [
       "<matplotlib.figure.Figure at 0x10fd62d30>"
      ]
     },
     "metadata": {},
     "output_type": "display_data"
    }
   ],
   "source": [
    "# visulization loss and accuracy\n",
    "plt.plot(r.history['loss'], label = 'train_loss')\n",
    "plt.plot(r.history['val_loss'], label = 'validation_loss')\n",
    "plt.legend()\n",
    "plt.show()\n",
    "\n",
    "plt.plot(r.history['acc'], label = 'train_accuracy')\n",
    "plt.plot(r.history['val_acc'], label = 'validation_accuracy')\n",
    "plt.legend()\n",
    "plt.show()"
   ]
  },
  {
   "cell_type": "code",
   "execution_count": null,
   "metadata": {
    "collapsed": true
   },
   "outputs": [],
   "source": []
  }
 ],
 "metadata": {
  "kernelspec": {
   "display_name": "Python 3",
   "language": "python",
   "name": "python3"
  },
  "language_info": {
   "codemirror_mode": {
    "name": "ipython",
    "version": 3
   },
   "file_extension": ".py",
   "mimetype": "text/x-python",
   "name": "python",
   "nbconvert_exporter": "python",
   "pygments_lexer": "ipython3",
   "version": "3.6.3"
  }
 },
 "nbformat": 4,
 "nbformat_minor": 2
}
