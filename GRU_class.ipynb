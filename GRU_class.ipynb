{
 "cells": [
  {
   "cell_type": "code",
   "execution_count": 1,
   "metadata": {
    "collapsed": true
   },
   "outputs": [],
   "source": [
    "import numpy as np\n",
    "import theano\n",
    "import theano.tensor as T"
   ]
  },
  {
   "cell_type": "code",
   "execution_count": 2,
   "metadata": {
    "collapsed": true
   },
   "outputs": [],
   "source": [
    "def init_weight(Mi, Mo):\n",
    "    return np.random.randn(Mi, Mo) / np.sqrt(Mi + Mo)"
   ]
  },
  {
   "cell_type": "code",
   "execution_count": 3,
   "metadata": {
    "collapsed": true
   },
   "outputs": [],
   "source": [
    "class GRU:\n",
    "    def __init__(self, Mi, Mo, activation):\n",
    "        self.Mi = Mi\n",
    "        self.Mo = Mo\n",
    "        self.f = activation\n",
    "        \n",
    "        Wxr = init_weight(Mi, Mo)\n",
    "        Whr = init_weight(Mo, Mo)\n",
    "        br = np.zeros(Mo)\n",
    "        Wxz = init_weight(Mi, Mo)\n",
    "        Whz = init_weight(Mo, Mo)\n",
    "        bz = np.zeros(Mo)\n",
    "        Wxh = init_weight(Mi, Mo)\n",
    "        Whh = init_weight(Mo, Mo)\n",
    "        bh = np.zeros(Mo)\n",
    "        h0 = np.zeros(Mo)\n",
    "        \n",
    "        self.Wxr = theano.shared(Wxr)\n",
    "        self.Whr = theano.shared(Whr)\n",
    "        self.br = theano.shared(br)\n",
    "        self.Wxz = theano.shared(Wxz)\n",
    "        self.Whz = theano.shared(Whz)\n",
    "        self.bz = theano.shared(bz)\n",
    "        self.Wxh = theano.shared(Wxh)\n",
    "        self.Whh = theano.shared(Whh)\n",
    "        self.bh = theano.shared(bh)\n",
    "        self.h0 = theano.shared(h0)\n",
    "        self.params = [self.Wxr, self.Whr, self.br, self.Wxz, self.Whz, self.bz, self.Wxh, self.Whh, self.bh, self.h0]\n",
    "    \n",
    "    def recurrence(self, x_t, h_t1):\n",
    "        r = T.nnet.sigmoid(x_t.dot(self.Wxr) + h_t1.dot(self.Whr) + self.br)\n",
    "        z = T.nnet.sigmoid(x_t.dot(self.Wxz) + h_t1.dot(self.Whz) + self.bz)\n",
    "        hhat = self.f(x_t.dot(self.Wxh) + (r*h_t1).dot(self.Whh) + self.bh)\n",
    "        h = (1-z)*h_t1 + z*hhat\n",
    "        return h\n",
    "    \n",
    "    def output(self, x):\n",
    "        h, _ = theano.scan(\n",
    "            fn = self.recurrence,\n",
    "            sequences = x,\n",
    "            outputs_info = [self.h0],\n",
    "            n_steps = x.shape[0],\n",
    "        )\n",
    "        return h"
   ]
  },
  {
   "cell_type": "code",
   "execution_count": null,
   "metadata": {
    "collapsed": true
   },
   "outputs": [],
   "source": []
  }
 ],
 "metadata": {
  "kernelspec": {
   "display_name": "Python 3",
   "language": "python",
   "name": "python3"
  },
  "language_info": {
   "codemirror_mode": {
    "name": "ipython",
    "version": 3
   },
   "file_extension": ".py",
   "mimetype": "text/x-python",
   "name": "python",
   "nbconvert_exporter": "python",
   "pygments_lexer": "ipython3",
   "version": "3.6.3"
  }
 },
 "nbformat": 4,
 "nbformat_minor": 2
}
