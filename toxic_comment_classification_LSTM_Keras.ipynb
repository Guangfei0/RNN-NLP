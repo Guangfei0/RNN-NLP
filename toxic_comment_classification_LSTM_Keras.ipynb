{
 "cells": [
  {
   "cell_type": "markdown",
   "metadata": {},
   "source": [
    "- The following codes are for the Kaggle test: Toxic Comment Classification Challenge.\n",
    "- Description: \"In this competition, you’re challenged to build a multi-headed model that’s capable of detecting different types of of toxicity like threats, obscenity, insults, and identity-based hate. You’ll be using a dataset of comments from Wikipedia’s talk page edits. \n",
    "- Dataset: https://www.kaggle.com/c/jigsaw-toxic-comment-classification-challenge\n",
    "- Approach: RNN/LSTM\n",
    "- Result: Compared to using CNN approach, with fewer epochs and smaller embedding dimension, RNN with only 1 LSTM layer can achieve competitive loss and accuracy."
   ]
  },
  {
   "cell_type": "code",
   "execution_count": 2,
   "metadata": {},
   "outputs": [],
   "source": [
    "import os\n",
    "import sys\n",
    "import numpy as np\n",
    "import pandas as pd\n",
    "import matplotlib.pyplot as plt\n",
    "from keras.preprocessing.text import Tokenizer\n",
    "from keras.preprocessing.sequence import pad_sequences\n",
    "from keras.models import Model\n",
    "from keras.layers import Dense, Embedding, Input\n",
    "from keras.layers import LSTM, Bidirectional, GlobalMaxPool1D, Dropout\n",
    "from keras.optimizers import Adam\n",
    "from sklearn.metrics import roc_auc_score"
   ]
  },
  {
   "cell_type": "code",
   "execution_count": 3,
   "metadata": {
    "collapsed": true
   },
   "outputs": [],
   "source": [
    "import keras.backend as K\n",
    "if len(K.tensorflow_backend._get_available_gpus()) > 0:\n",
    "    from keras.layers import CuDNNLSTM as LSTM\n",
    "    from keras.layers import CuDNNGRU as GRU"
   ]
  },
  {
   "cell_type": "code",
   "execution_count": 4,
   "metadata": {
    "collapsed": true
   },
   "outputs": [],
   "source": [
    "# Configuration\n",
    "max_sequence_length = 100\n",
    "max_vocab_size = 20000\n",
    "embedding_dim = 50\n",
    "validation_split = 0.2\n",
    "batch_size = 128\n",
    "epochs = 2"
   ]
  },
  {
   "cell_type": "code",
   "execution_count": 8,
   "metadata": {},
   "outputs": [
    {
     "name": "stdout",
     "output_type": "stream",
     "text": [
      "number of word vectors: 400000\n"
     ]
    }
   ],
   "source": [
    "# prepare word embeddings\n",
    "# glove\n",
    "word2vec = {}\n",
    "with open(os.path.join('../large_files/glove.6B/glove.6B.%sd.txt' % embedding_dim)) as f:\n",
    "    for line in f:\n",
    "        values = line.split()\n",
    "        word = values[0]\n",
    "        vec = np.asarray(values[1:], dtype = 'float32')\n",
    "        word2vec[word] = vec\n",
    "print('number of word vectors: %s' % len(word2vec))"
   ]
  },
  {
   "cell_type": "code",
   "execution_count": 9,
   "metadata": {
    "collapsed": true
   },
   "outputs": [],
   "source": [
    "# Prepare text samples and corresponding multi-headed labels\n",
    "train = pd.read_csv(\"../large_files/toxic-comment/train.csv\")\n",
    "sentences = train[\"comment_text\"].fillna(\"DUMMY_VALUE\").values\n",
    "possible_labels = ['toxic', 'severe_toxic', 'obscene', 'threat', 'insult', 'identity_hate']\n",
    "targets = train[possible_labels].values"
   ]
  },
  {
   "cell_type": "code",
   "execution_count": 10,
   "metadata": {
    "collapsed": true
   },
   "outputs": [],
   "source": [
    "# convert sentences(strings) into integers\n",
    "tokenizer = Tokenizer(num_words = max_vocab_size)\n",
    "tokenizer.fit_on_texts(sentences)\n",
    "sequences = tokenizer.texts_to_sequences(sentences) # a list of lists where each sublist is word indexes"
   ]
  },
  {
   "cell_type": "code",
   "execution_count": 11,
   "metadata": {
    "collapsed": true
   },
   "outputs": [],
   "source": [
    "# word to idx mapping\n",
    "word2idx = tokenizer.word_index"
   ]
  },
  {
   "cell_type": "code",
   "execution_count": 12,
   "metadata": {},
   "outputs": [
    {
     "name": "stdout",
     "output_type": "stream",
     "text": [
      "shape of data: (159571, 100)\n"
     ]
    }
   ],
   "source": [
    "# pad sequences to get a NxT matrix, N = # of comments, T = length of each comment\n",
    "data = pad_sequences(sequences, maxlen = max_sequence_length)\n",
    "print(\"shape of data:\", data.shape)"
   ]
  },
  {
   "cell_type": "code",
   "execution_count": 14,
   "metadata": {},
   "outputs": [],
   "source": [
    "# prepare embedding matrix\n",
    "num_words = min(max_vocab_size, len(word2idx) + 1)\n",
    "embedding_matrix = np.zeros((num_words, embedding_dim))\n",
    "for word, i in word2idx.items():\n",
    "    if i < max_vocab_size:\n",
    "        embedding_vector = word2vec.get(word)\n",
    "        if embedding_vector is not None:\n",
    "            embedding_matrix[i] = embedding_vector"
   ]
  },
  {
   "cell_type": "code",
   "execution_count": 16,
   "metadata": {
    "collapsed": true
   },
   "outputs": [],
   "source": [
    "# Create Embedding layer with pre-trained word embeddings\n",
    "# Do not train embeddings with trainable = False \n",
    "embedding_layer = Embedding(\n",
    "    input_dim = num_words,\n",
    "    output_dim = embedding_dim,\n",
    "    weights = [embedding_matrix],\n",
    "    input_length = max_sequence_length,\n",
    "    trainable = False\n",
    "    )"
   ]
  },
  {
   "cell_type": "code",
   "execution_count": 17,
   "metadata": {},
   "outputs": [
    {
     "name": "stdout",
     "output_type": "stream",
     "text": [
      "Train on 127656 samples, validate on 31915 samples\n",
      "Epoch 1/2\n",
      "127656/127656 [==============================] - 104s 813us/step - loss: 0.0762 - acc: 0.9752 - val_loss: 0.0599 - val_acc: 0.9793\n",
      "Epoch 2/2\n",
      "127656/127656 [==============================] - 104s 816us/step - loss: 0.0573 - acc: 0.9800 - val_loss: 0.0576 - val_acc: 0.9800\n"
     ]
    }
   ],
   "source": [
    "# train LSTM network with a single LSTM layer\n",
    "input_ = Input(shape = (max_sequence_length,))\n",
    "x = embedding_layer(input_)\n",
    "x = LSTM(15, return_sequences = True)(x)\n",
    "x = GlobalMaxPool1D()(x)\n",
    "output = Dense(len(possible_labels), activation = 'sigmoid')(x) # Use same feature matrix to calculate 6 separate sigmoid for 6 different labels\n",
    "\n",
    "model = Model(input_, output)\n",
    "# 6 different binary classification\n",
    "model.compile(\n",
    "    loss = 'binary_crossentropy',\n",
    "    optimizer = Adam(lr = 0.01),\n",
    "    metrics = ['accuracy']\n",
    "    )\n",
    "\n",
    "r = model.fit(\n",
    "    data,\n",
    "    targets,\n",
    "    batch_size = batch_size,\n",
    "    epochs = epochs,\n",
    "    validation_split = validation_split\n",
    "    )"
   ]
  },
  {
   "cell_type": "code",
   "execution_count": 18,
   "metadata": {},
   "outputs": [
    {
     "data": {
      "image/png": "[encoded data removed]",
      "text/plain": [
       "<matplotlib.figure.Figure at 0x1a302ae4a8>"
      ]
     },
     "metadata": {},
     "output_type": "display_data"
    },
    {
     "data": {
      "image/png": "[encoded data removed]",
      "text/plain": [
       "<matplotlib.figure.Figure at 0x1a41ce5048>"
      ]
     },
     "metadata": {},
     "output_type": "display_data"
    }
   ],
   "source": [
    "# plot the loss for training data and validation set\n",
    "plt.plot(r.history['loss'], label = 'loss')\n",
    "plt.plot(r.history['val_loss'], label = 'validation_loss')\n",
    "plt.legend()\n",
    "plt.show()\n",
    "\n",
    "plt.plot(r.history['acc'], label = 'accuracy')\n",
    "plt.plot(r.history['val_acc'], label = 'validation_accuracy')\n",
    "plt.legend()\n",
    "plt.show()"
   ]
  },
  {
   "cell_type": "code",
   "execution_count": 19,
   "metadata": {},
   "outputs": [
    {
     "name": "stdout",
     "output_type": "stream",
     "text": [
      "average auc across all labels:  0.9675546270191738\n"
     ]
    }
   ],
   "source": [
    "# calcuate average auc across all 6 labels\n",
    "p = model.predict(data)\n",
    "aucs = []\n",
    "for j in range(len(possible_labels)):\n",
    "    auc = roc_auc_score(targets[:,j], p[:,j])\n",
    "    aucs.append(auc)\n",
    "print(\"average auc across all labels: \",np.mean(aucs))"
   ]
  },
  {
   "cell_type": "code",
   "execution_count": null,
   "metadata": {
    "collapsed": true
   },
   "outputs": [],
   "source": []
  }
 ],
 "metadata": {
  "kernelspec": {
   "display_name": "Python 3",
   "language": "python",
   "name": "python3"
  },
  "language_info": {
   "codemirror_mode": {
    "name": "ipython",
    "version": 3
   },
   "file_extension": ".py",
   "mimetype": "text/x-python",
   "name": "python",
   "nbconvert_exporter": "python",
   "pygments_lexer": "ipython3",
   "version": "3.6.3"
  }
 },
 "nbformat": 4,
 "nbformat_minor": 2
}
