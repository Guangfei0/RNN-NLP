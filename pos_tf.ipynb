{
 "cells": [
  {
   "cell_type": "code",
   "execution_count": 1,
   "metadata": {},
   "outputs": [
    {
     "name": "stderr",
     "output_type": "stream",
     "text": [
      "/Users/yuanjing/anaconda3/lib/python3.6/site-packages/h5py/__init__.py:34: FutureWarning: Conversion of the second argument of issubdtype from `float` to `np.floating` is deprecated. In future, it will be treated as `np.float64 == np.dtype(float).type`.\n",
      "  from ._conv import register_converters as _register_converters\n"
     ]
    }
   ],
   "source": [
    "import numpy as np\n",
    "import matplotlib.pyplot as plt\n",
    "import tensorflow as tf\n",
    "import os\n",
    "import sys\n",
    "sys.path.append(os.path.abspath('..'))\n",
    "from pos_baseline import get_data\n",
    "from sklearn.utils import shuffle\n",
    "from util import init_weight\n",
    "from datetime import datetime\n",
    "from sklearn.metrics import f1_score\n",
    "\n",
    "from tensorflow.contrib.rnn import static_rnn as get_rnn_output\n",
    "from tensorflow.contrib.rnn import BasicRNNCell, GRUCell"
   ]
  },
  {
   "cell_type": "code",
   "execution_count": 2,
   "metadata": {
    "collapsed": true
   },
   "outputs": [],
   "source": [
    "def get_data(split_sequences = False):\n",
    "    if not os.path.exists('chunking'):\n",
    "        print(\"Please create a folder in your local directory called 'chunking'\")\n",
    "        print(\"train.txt and test.txt should be stored in there.\")\n",
    "        print(\"Please check the comments to get the download link.\")\n",
    "        exit()\n",
    "    elif not os.path.exists('chunking/train.txt'):\n",
    "        print(\"train.txt is not in chunking/train.txt\")\n",
    "        print(\"Please check the comments to get the download link.\")\n",
    "        exit()\n",
    "    elif not os.path.exists('chunking/test.txt'):\n",
    "        print(\"test.txt is not in chunking/test.txt\")\n",
    "        print(\"Please check the comments to get the download link.\")\n",
    "        exit()\n",
    "    \n",
    "    word2idx = {}\n",
    "    tag2idx = {}\n",
    "    word_idx = 1\n",
    "    tag_idx = 1\n",
    "    Xtrain = []\n",
    "    Ytrain = []\n",
    "    currentX = []\n",
    "    currentY = []\n",
    "    for line in open('chunking/train.txt'):\n",
    "        line = line.rstrip()\n",
    "        if line:\n",
    "            r = line.split()\n",
    "            word, tag, _ = r\n",
    "            if word not in word2idx:\n",
    "                word2idx[word] = word_idx\n",
    "                word_idx += 1\n",
    "            currentX.append(word2idx[word])\n",
    "            \n",
    "            if tag not in tag2idx:\n",
    "                tag2idx[tag] = tag_idx\n",
    "                tag_idx += 1\n",
    "            currentY.append(tag2idx[tag])\n",
    "        \n",
    "        elif split_sequences:\n",
    "            Xtrain.append(currentX)\n",
    "            Ytrain.append(currentY)\n",
    "            currentX = []\n",
    "            currentY = []\n",
    "    \n",
    "    if not split_sequences:\n",
    "        Xtrain = currentX\n",
    "        Ytrain = currentY\n",
    "    \n",
    "    # load and score test data\n",
    "    Xtest = []\n",
    "    Ytest = []\n",
    "    currentX = []\n",
    "    currentY = []\n",
    "    for line in open('chunking/test.txt'):\n",
    "        line = line.rstrip()\n",
    "        if line:\n",
    "            r = line.split()\n",
    "            word, tag, _ = r\n",
    "            if word in word2idx:\n",
    "                currentX.append(word2idx[word])\n",
    "            else:\n",
    "                currentX.append(word_idx)\n",
    "            currentY.append(tag2idx[tag])\n",
    "        \n",
    "        elif split_sequences:\n",
    "            Xtest.append(currentX)\n",
    "            Ytest.append(currentY)\n",
    "            currentX = []\n",
    "            currentY = []\n",
    "    if not split_sequences:\n",
    "        Xtest = currentX\n",
    "        Ytest = currentY\n",
    "    \n",
    "    return Xtrain, Ytrain, Xtest, Ytest, word2idx"
   ]
  },
  {
   "cell_type": "code",
   "execution_count": 3,
   "metadata": {
    "collapsed": true
   },
   "outputs": [],
   "source": [
    "def flatten(l):\n",
    "    return [item for sublist in l for item in sublist]"
   ]
  },
  {
   "cell_type": "code",
   "execution_count": 4,
   "metadata": {
    "collapsed": true
   },
   "outputs": [],
   "source": [
    "# get the data\n",
    "Xtrain, Ytrain, Xtest, Ytest, word2idx = get_data(split_sequences = True)\n",
    "V = len(word2idx) + 2\n",
    "K = len(set(flatten(Ytrain)) | set(flatten(Ytest))) + 1"
   ]
  },
  {
   "cell_type": "code",
   "execution_count": 5,
   "metadata": {},
   "outputs": [],
   "source": [
    "# training config\n",
    "epochs = 20\n",
    "learning_rate = 1e-2\n",
    "mu = 0.99\n",
    "batch_size = 32\n",
    "hidden_layer_size = 10\n",
    "embedding_dim = 10\n",
    "sequence_length = max(len(x) for x in Xtrain + Xtest) # 78"
   ]
  },
  {
   "cell_type": "code",
   "execution_count": 6,
   "metadata": {},
   "outputs": [
    {
     "name": "stdout",
     "output_type": "stream",
     "text": [
      "Xtrain.shape: (8936, 78)\n",
      "Ytrain.shape: (8936, 78)\n"
     ]
    }
   ],
   "source": [
    "# pad sequences\n",
    "Xtrain = tf.keras.preprocessing.sequence.pad_sequences(Xtrain, maxlen = sequence_length) # numpy array\n",
    "Ytrain = tf.keras.preprocessing.sequence.pad_sequences(Ytrain, maxlen = sequence_length)\n",
    "Xtest = tf.keras.preprocessing.sequence.pad_sequences(Xtest, maxlen = sequence_length)\n",
    "Ytest = tf.keras.preprocessing.sequence.pad_sequences(Ytest, maxlen = sequence_length)\n",
    "print(\"Xtrain.shape:\", Xtrain.shape)\n",
    "print(\"Ytrain.shape:\", Ytrain.shape)"
   ]
  },
  {
   "cell_type": "code",
   "execution_count": 7,
   "metadata": {},
   "outputs": [],
   "source": [
    "# inputs\n",
    "inputs = tf.placeholder(tf.int32, shape = (None, sequence_length))\n",
    "targets = tf.placeholder(tf.int32, shape = (None, sequence_length))\n",
    "num_samples = tf.shape(inputs)[0]\n",
    "\n",
    "# embedding\n",
    "We = np.random.randn(V, embedding_dim).astype(np.float32)\n",
    "\n",
    "# output layer\n",
    "Wo = init_weight(hidden_layer_size, K).astype(np.float32)\n",
    "bo = np.zeros(K).astype(np.float32)\n",
    "\n",
    "# make tensorflow variables\n",
    "tfWe = tf.Variable(We)\n",
    "tfWo = tf.Variable(Wo)\n",
    "tfbo = tf.Variable(bo)\n",
    "\n",
    "rnn_unit = GRUCell(num_units = hidden_layer_size, activation = tf.nn.relu)\n",
    "\n",
    "# get the output\n",
    "x = tf.nn.embedding_lookup(tfWe, inputs) # shape: N x T x D\n",
    "\n",
    "# convert x from tensor of size NxTxD \n",
    "# into list of length T, with each element a tensor of shape NxD\n",
    "x = tf.unstack(x, sequence_length, 1)\n",
    "\n",
    "# rnn output\n",
    "outputs, states = get_rnn_output(rnn_unit, x, dtype = tf.float32)\n",
    "\n",
    "# outputs: T x N x M\n",
    "# make it (N, T, M)\n",
    "outputs = tf.transpose(outputs, (1, 0, 2))\n",
    "outputs = tf.reshape(outputs, (sequence_length*num_samples, hidden_layer_size)) # NT x M\n",
    "\n",
    "# final dense layer\n",
    "logits = tf.matmul(outputs, tfWo) + tfbo # NT x K\n",
    "predictions = tf.argmax(logits, 1)\n",
    "predict_op = tf.reshape(predictions, (num_samples, sequence_length))\n",
    "labels_flat = tf.reshape(targets, [-1]) # flatten to 1-D tensor\n",
    "\n",
    "cost_op = tf.reduce_mean(\n",
    "    tf.nn.sparse_softmax_cross_entropy_with_logits(\n",
    "        logits = logits,\n",
    "        labels = labels_flat\n",
    "    )\n",
    ")\n",
    "train_op = tf.train.AdamOptimizer(learning_rate).minimize(cost_op)\n"
   ]
  },
  {
   "cell_type": "code",
   "execution_count": 8,
   "metadata": {
    "collapsed": true
   },
   "outputs": [],
   "source": [
    "# init stuff\n",
    "sess = tf.InteractiveSession()\n",
    "init = tf.global_variables_initializer()\n",
    "sess.run(init)"
   ]
  },
  {
   "cell_type": "code",
   "execution_count": 10,
   "metadata": {},
   "outputs": [
    {
     "name": "stdout",
     "output_type": "stream",
     "text": [
      "i: 0 cost: 172.5766 train acc: 0.5360 test acc: 0.7765 time for epoch: 0:00:08.134658\n",
      "i: 1 cost: 47.8917 train acc: 0.8553 test acc: 0.8745 time for epoch: 0:00:07.408661\n",
      "i: 2 cost: 26.4733 train acc: 0.9199 test acc: 0.8966 time for epoch: 0:00:07.432953\n",
      "i: 3 cost: 16.9219 train acc: 0.9472 test acc: 0.9124 time for epoch: 0:00:07.316387\n",
      "i: 4 cost: 11.5780 train acc: 0.9630 test acc: 0.9176 time for epoch: 0:00:07.316801\n",
      "i: 5 cost: 8.4507 train acc: 0.9718 test acc: 0.9198 time for epoch: 0:00:07.329314\n",
      "i: 6 cost: 6.6790 train acc: 0.9771 test acc: 0.9198 time for epoch: 0:00:07.340092\n",
      "i: 7 cost: 5.5587 train acc: 0.9800 test acc: 0.9244 time for epoch: 0:00:07.353348\n",
      "i: 8 cost: 4.8703 train acc: 0.9824 test acc: 0.9210 time for epoch: 0:00:07.278785\n",
      "i: 9 cost: 4.4046 train acc: 0.9837 test acc: 0.9202 time for epoch: 0:00:07.330396\n",
      "i: 10 cost: 4.1382 train acc: 0.9845 test acc: 0.9206 time for epoch: 0:00:07.344343\n",
      "i: 11 cost: 3.8132 train acc: 0.9856 test acc: 0.9219 time for epoch: 0:00:07.341865\n",
      "i: 12 cost: 3.5466 train acc: 0.9864 test acc: 0.9203 time for epoch: 0:00:07.302102\n",
      "i: 13 cost: 3.4561 train acc: 0.9867 test acc: 0.9209 time for epoch: 0:00:07.328316\n",
      "i: 14 cost: 3.2690 train acc: 0.9873 test acc: 0.9203 time for epoch: 0:00:07.096944\n",
      "i: 15 cost: 3.1652 train acc: 0.9877 test acc: 0.9206 time for epoch: 0:00:07.342957\n",
      "i: 16 cost: 3.0867 train acc: 0.9881 test acc: 0.9205 time for epoch: 0:00:07.319915\n",
      "i: 17 cost: 3.0124 train acc: 0.9884 test acc: 0.9190 time for epoch: 0:00:07.334763\n",
      "i: 18 cost: 2.8654 train acc: 0.9886 test acc: 0.9180 time for epoch: 0:00:07.293250\n",
      "i: 19 cost: 2.8562 train acc: 0.9887 test acc: 0.9211 time for epoch: 0:00:07.373173\n"
     ]
    },
    {
     "data": {
      "image/png": "[encoded data removed]",
      "text/plain": [
       "<matplotlib.figure.Figure at 0x1c2279be48>"
      ]
     },
     "metadata": {},
     "output_type": "display_data"
    }
   ],
   "source": [
    "costs = []\n",
    "n_batches = len(Ytrain) // batch_size\n",
    "for i in range(epochs):\n",
    "    n_total = 0\n",
    "    n_correct = 0\n",
    "    \n",
    "    t0 = datetime.now()\n",
    "    Xtrain, Ytrain = shuffle(Xtrain, Ytrain)\n",
    "    cost = 0\n",
    "    \n",
    "    for j in range(n_batches):\n",
    "        x = Xtrain[j*batch_size:(j+1)*batch_size]\n",
    "        y = Ytrain[j*batch_size:(j+1)*batch_size]\n",
    "        \n",
    "        c, p, _ = sess.run(\n",
    "            (cost_op, predict_op, train_op),\n",
    "            feed_dict = {inputs:x, targets:y}\n",
    "        )\n",
    "        cost += c\n",
    "        \n",
    "        # calculate the accuracy\n",
    "        for yi, pi in zip(y, p): # p: NxT, y:NxT\n",
    "            # we don't care about the padded entries so ignore them\n",
    "            yii = yi[yi > 0]\n",
    "            pii = pi[yi > 0]\n",
    "            n_correct += np.sum(yii == pii)\n",
    "            n_total += len(yii)\n",
    "        \n",
    "        # print stuff out periodically\n",
    "        if j % 10 == 0:\n",
    "            sys.stdout.write(\n",
    "                \"j/N: %d/%d correct rate so far: %f, cost so far: %f\\r\" % \n",
    "                (j, n_batches, float(n_correct)/n_total, cost)\n",
    "            )\n",
    "            sys.stdout.flush()\n",
    "        \n",
    "    \n",
    "    p = sess.run(predict_op, feed_dict = {inputs: Xtest, targets: Ytest})\n",
    "    n_test_correct = 0 \n",
    "    n_test_total = 0\n",
    "    for yi, pi in zip(Ytest, p):\n",
    "        yii = yi[yi > 0]\n",
    "        pii = pi[yi > 0]\n",
    "        n_test_correct += np.sum(yii == pii)\n",
    "        n_test_total += len(yii)\n",
    "    test_acc = float(n_test_correct) / n_test_total\n",
    "\n",
    "    print(\n",
    "      \"i:\", i, \"cost:\", \"%.4f\" % cost,\n",
    "      \"train acc:\", \"%.4f\" % (float(n_correct)/n_total),\n",
    "      \"test acc:\", \"%.4f\" % test_acc,\n",
    "      \"time for epoch:\", (datetime.now() - t0)\n",
    "    )\n",
    "    \n",
    "    costs.append(cost)\n",
    "\n",
    "plt.plot(costs)\n",
    "plt.show()"
   ]
  },
  {
   "cell_type": "code",
   "execution_count": null,
   "metadata": {
    "collapsed": true
   },
   "outputs": [],
   "source": []
  },
  {
   "cell_type": "code",
   "execution_count": null,
   "metadata": {
    "collapsed": true
   },
   "outputs": [],
   "source": []
  }
 ],
 "metadata": {
  "kernelspec": {
   "display_name": "Python 3",
   "language": "python",
   "name": "python3"
  },
  "language_info": {
   "codemirror_mode": {
    "name": "ipython",
    "version": 3
   },
   "file_extension": ".py",
   "mimetype": "text/x-python",
   "name": "python",
   "nbconvert_exporter": "python",
   "pygments_lexer": "ipython3",
   "version": "3.6.3"
  }
 },
 "nbformat": 4,
 "nbformat_minor": 2
}
