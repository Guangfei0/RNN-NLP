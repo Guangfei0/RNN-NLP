{
 "cells": [
  {
   "cell_type": "markdown",
   "metadata": {},
   "source": [
    "## The bABI project: automatic text understanding and reasoning"
   ]
  },
  {
   "cell_type": "markdown",
   "metadata": {},
   "source": [
    "- Project info: Each sample contains a story (multiple sentences), several questions (single sentence) and answers. The goal is to let the machine learn and understand the story and make simple short answer (1 word) to a question.\n",
    "- In this project, we focus on two types:\n",
    "  - single supporting fact\n",
    "  - two supporting facts \n",
    "- Approach: memory network\n",
    "- Conclusion: The training is pretty fast for memory network and the prediction accuracy is very high."
   ]
  },
  {
   "cell_type": "code",
   "execution_count": 1,
   "metadata": {
    "collapsed": true
   },
   "outputs": [],
   "source": [
    "# Disable warnings\n",
    "import warnings\n",
    "def fxn():\n",
    "    warnings.warn(\"deprecated\", DeprecationWarning)\n",
    "with warnings.catch_warnings():\n",
    "    warnings.simplefilter(\"ignore\")\n",
    "    fxn()"
   ]
  },
  {
   "cell_type": "code",
   "execution_count": 2,
   "metadata": {},
   "outputs": [
    {
     "name": "stderr",
     "output_type": "stream",
     "text": [
      "/Users/yuanjing/anaconda3/lib/python3.6/site-packages/h5py/__init__.py:34: FutureWarning: Conversion of the second argument of issubdtype from `float` to `np.floating` is deprecated. In future, it will be treated as `np.float64 == np.dtype(float).type`.\n",
      "  from ._conv import register_converters as _register_converters\n",
      "Using TensorFlow backend.\n"
     ]
    }
   ],
   "source": [
    "import numpy as np\n",
    "import re\n",
    "import tarfile\n",
    "import matplotlib.pyplot as plt\n",
    "import keras.backend as K\n",
    "from keras.models import Model\n",
    "from keras.layers import Dense, Embedding, Input, Lambda, Reshape, add, dot, Activation\n",
    "from keras.preprocessing.sequence import pad_sequences\n",
    "from keras.optimizers import Adam, RMSprop\n",
    "from keras.utils.data_utils import get_file"
   ]
  },
  {
   "cell_type": "code",
   "execution_count": 3,
   "metadata": {},
   "outputs": [],
   "source": [
    "# download data from URL and open compressed tarfile\n",
    "path = get_file(\n",
    "    'babi-tasks-v1-2.tar.gz',\n",
    "    origin = 'https://s3.amazonaws.com/text-datasets/babi_tasks_1-20_v1-2.tar.gz'\n",
    ")\n",
    "tar = tarfile.open(path)"
   ]
  },
  {
   "cell_type": "code",
   "execution_count": 4,
   "metadata": {
    "collapsed": true
   },
   "outputs": [],
   "source": [
    "# Muliple datasets in tar file\n",
    "# Only two will be used in this project\n",
    "challenges = {\n",
    "    'single_supporting_fact_10k': 'tasks_1-20_v1-2/en-10k/qa1_single-supporting-fact_{}.txt',\n",
    "    'two_supporting_facts_10k': 'tasks_1-20_v1-2/en-10k/qa2_two-supporting-facts_{}.txt'\n",
    "}"
   ]
  },
  {
   "cell_type": "code",
   "execution_count": 5,
   "metadata": {
    "collapsed": true
   },
   "outputs": [],
   "source": [
    "# define some util functions\n",
    "def tokenize(sent):\n",
    "    return [x.strip() for x in re.split('(\\W+)?', sent) if x.strip()]\n",
    "\n",
    "def should_flatten(el):\n",
    "    return not isinstance(el, (str, bytes))\n",
    "def flatten(l):\n",
    "    for el in l:\n",
    "        if should_flatten(el):\n",
    "            yield from flatten(el)\n",
    "        else:\n",
    "            yield el"
   ]
  },
  {
   "cell_type": "code",
   "execution_count": 6,
   "metadata": {
    "collapsed": true
   },
   "outputs": [],
   "source": [
    "def get_stories(f):    \n",
    "    '''\n",
    "    data contains a list of tuples:\n",
    "    1. a story\n",
    "    2. a question about the story\n",
    "    3. the answer to the story\n",
    "    '''\n",
    "    data = []\n",
    "    story = []\n",
    "    for line in f:\n",
    "        line = line.decode('utf-8').strip()\n",
    "        nid, line = line.split(' ', 1)\n",
    "\n",
    "        if int(nid) == 1:\n",
    "            story = []\n",
    "\n",
    "        if '\\t' in line:\n",
    "            q, a, supporting = line.split('\\t')\n",
    "            q = tokenize(q)\n",
    "            story_so_far = [[str(i)] + s for i, s in enumerate(story) if s]\n",
    "            data.append((story_so_far, q, a))\n",
    "            story.append('')\n",
    "        else:\n",
    "            story.append(tokenize(line))\n",
    "    return data"
   ]
  },
  {
   "cell_type": "code",
   "execution_count": 7,
   "metadata": {
    "collapsed": true
   },
   "outputs": [],
   "source": [
    "# Prepare inputs for model: Padding\n",
    "# Pad sentences within story\n",
    "# Pad stories so every story have the same number of sentences\n",
    "def vectorize_stories(data, word2idx, story_maxlen, query_maxlen):\n",
    "    '''\n",
    "    pad sentences within story\n",
    "    '''\n",
    "    inputs, queries, answers = [], [], []\n",
    "    for story, query, answer in data:\n",
    "        inputs.append([[word2idx[w] for w in s] for s in story])\n",
    "        queries.append([word2idx[w] for w in query])\n",
    "        answers.append([word2idx[answer]])\n",
    "    return (\n",
    "        [pad_sequences(x, maxlen=story_maxlen) for x in inputs],\n",
    "        pad_sequences(queries, maxlen=query_maxlen),\n",
    "        np.array(answers)\n",
    "  )\n",
    "\n",
    "def stack_inputs(inputs, story_maxsents, story_maxlen):\n",
    "    '''\n",
    "    pad stories to have same number of sentences\n",
    "    '''\n",
    "    for i, story in enumerate(inputs):\n",
    "        inputs[i] = np.concatenate(\n",
    "          [\n",
    "            story, \n",
    "            np.zeros((story_maxsents - story.shape[0], story_maxlen), 'int')\n",
    "          ]\n",
    "        )\n",
    "    return np.stack(inputs)\n"
   ]
  },
  {
   "cell_type": "code",
   "execution_count": 8,
   "metadata": {
    "collapsed": true
   },
   "outputs": [],
   "source": [
    "def get_data(challenge_type):\n",
    "    challenge = challenges[challenge_type]\n",
    "    train_stories = get_stories(tar.extractfile(challenge.format('train')))\n",
    "    test_stories = get_stories(tar.extractfile(challenge.format('test')))\n",
    "\n",
    "    stories = train_stories + test_stories\n",
    "    \n",
    "    story_maxlen = max((len(s) for x, _, _ in stories for s in x))\n",
    "    story_maxsents = max((len(x) for x, _, _ in stories))\n",
    "    query_maxlen = max(len(x) for _, x, _ in stories)\n",
    "\n",
    "    vocab = sorted(set(flatten(stories)))\n",
    "    vocab.insert(0, '<PAD>')\n",
    "    vocab_size = len(vocab)\n",
    "\n",
    "    word2idx = {c:i for i, c in enumerate(vocab)}\n",
    "\n",
    "    inputs_train, queries_train, answers_train = vectorize_stories(\n",
    "        train_stories, \n",
    "        word2idx,\n",
    "        story_maxlen,\n",
    "        query_maxlen\n",
    "    )\n",
    "    inputs_test, queries_test, answers_test = vectorize_stories(\n",
    "        test_stories, \n",
    "        word2idx,\n",
    "        story_maxlen,\n",
    "        query_maxlen\n",
    "    )\n",
    "\n",
    "  \n",
    "    inputs_train = stack_inputs(inputs_train, story_maxsents, story_maxlen)\n",
    "    inputs_test = stack_inputs(inputs_test, story_maxsents, story_maxlen)\n",
    "    print(\"inputs_train.shape: \", inputs_train.shape)\n",
    "    print(\"inputs_test.shape: \", inputs_test.shape )\n",
    "    return train_stories, test_stories, \\\n",
    "        inputs_train, queries_train, answers_train, \\\n",
    "        inputs_test, queries_test, answers_test, \\\n",
    "        story_maxsents, story_maxlen, query_maxlen, \\\n",
    "        vocab, vocab_size\n"
   ]
  },
  {
   "cell_type": "markdown",
   "metadata": {},
   "source": [
    "## Single supporting fact"
   ]
  },
  {
   "cell_type": "code",
   "execution_count": 9,
   "metadata": {},
   "outputs": [
    {
     "name": "stderr",
     "output_type": "stream",
     "text": [
      "/Users/yuanjing/anaconda3/lib/python3.6/re.py:212: FutureWarning: split() requires a non-empty pattern match.\n",
      "  return _compile(pattern, flags).split(string, maxsplit)\n"
     ]
    },
    {
     "name": "stdout",
     "output_type": "stream",
     "text": [
      "inputs_train.shape:  (10000, 10, 8)\n",
      "inputs_test.shape:  (1000, 10, 8)\n"
     ]
    }
   ],
   "source": [
    "train_stories, test_stories, \\\n",
    "    inputs_train, queries_train, answers_train, \\\n",
    "    inputs_test, queries_test, answers_test, \\\n",
    "    story_maxsents, story_maxlen, query_maxlen, \\\n",
    "    vocab, vocab_size = get_data('single_supporting_fact_10k')"
   ]
  },
  {
   "cell_type": "markdown",
   "metadata": {},
   "source": [
    "###  Model building and training"
   ]
  },
  {
   "cell_type": "code",
   "execution_count": 10,
   "metadata": {},
   "outputs": [
    {
     "name": "stdout",
     "output_type": "stream",
     "text": [
      "input story, input_story_.shape:  (?, 10, 8)\n",
      "embedded story, embedded_story.shape:  (?, 10, 15)\n"
     ]
    }
   ],
   "source": [
    "embedding_dim = 15\n",
    "\n",
    "# turn each story into a sequence of embedding vectors\n",
    "# each story line is a vector \"bag of words\"\n",
    "input_story_ = Input((story_maxsents, story_maxlen))\n",
    "embedded_story = Embedding(vocab_size, embedding_dim)(input_story_)\n",
    "embedded_story = Lambda(lambda x: K.sum(x, axis=2))(embedded_story)\n",
    "print(\"input story, input_story_.shape: \", input_story_.shape)\n",
    "print(\"embedded story, embedded_story.shape: \", embedded_story.shape)\n",
    "\n",
    "# turn questions into embedding\n",
    "# different embedding from stories\n",
    "input_question_ = Input((query_maxlen,))\n",
    "embedded_question = Embedding(vocab_size, embedding_dim)(input_question_)\n",
    "embedded_question = Lambda(lambda x: K.sum(x, axis=1))(embedded_question)\n",
    "embedded_question = Reshape((1, embedding_dim))(embedded_question)\n",
    "\n",
    "x = dot([embedded_story, embedded_question], 2)\n",
    "x = Reshape((story_maxsents,))(x)\n",
    "x = Activation('softmax')(x)\n",
    "story_weights = Reshape((story_maxsents, 1))(x) "
   ]
  },
  {
   "cell_type": "code",
   "execution_count": 11,
   "metadata": {},
   "outputs": [],
   "source": [
    "# Pass relevant sentence ( = weighted sentences) into dense layer with softmax\n",
    "x = dot([story_weights, embedded_story], 1)\n",
    "x = Reshape((embedding_dim,))(x)\n",
    "ans = Dense(vocab_size, activation='softmax')(x)\n",
    "\n",
    "model = Model([input_story_, input_question_], ans)\n",
    "model.compile(\n",
    "    optimizer = RMSprop(lr = 1e-2),\n",
    "    loss = 'sparse_categorical_crossentropy',\n",
    "    metrics = ['accuracy']\n",
    ")"
   ]
  },
  {
   "cell_type": "code",
   "execution_count": 12,
   "metadata": {},
   "outputs": [
    {
     "name": "stdout",
     "output_type": "stream",
     "text": [
      "Train on 10000 samples, validate on 1000 samples\n",
      "Epoch 1/4\n",
      "10000/10000 [==============================] - 1s 98us/step - loss: 0.7304 - acc: 0.7559 - val_loss: 0.0084 - val_acc: 1.0000\n",
      "Epoch 2/4\n",
      "10000/10000 [==============================] - 1s 86us/step - loss: 0.0103 - acc: 0.9976 - val_loss: 0.1011 - val_acc: 0.9750\n",
      "Epoch 3/4\n",
      "10000/10000 [==============================] - 1s 84us/step - loss: 0.0062 - acc: 0.9983 - val_loss: 0.0057 - val_acc: 0.9970\n",
      "Epoch 4/4\n",
      "10000/10000 [==============================] - 1s 83us/step - loss: 0.0067 - acc: 0.9989 - val_loss: 7.9686e-06 - val_acc: 1.0000\n"
     ]
    }
   ],
   "source": [
    "r = model.fit(\n",
    "    [inputs_train, queries_train],\n",
    "    answers_train,\n",
    "    epochs = 4,\n",
    "    batch_size = 32,\n",
    "    validation_data = ([inputs_test, queries_test], answers_test)\n",
    ")"
   ]
  },
  {
   "cell_type": "markdown",
   "metadata": {},
   "source": [
    "### Model testing"
   ]
  },
  {
   "cell_type": "code",
   "execution_count": 13,
   "metadata": {},
   "outputs": [],
   "source": [
    "# Given a story, output weights that express the importance of each sentence for answering the question\n",
    "debug_model = Model([input_story_, input_question_], story_weights)"
   ]
  },
  {
   "cell_type": "code",
   "execution_count": 14,
   "metadata": {},
   "outputs": [
    {
     "name": "stdout",
     "output_type": "stream",
     "text": [
      "question:\n",
      " Where is Daniel ?\n",
      "prediction:  bathroom\n",
      "answer:  bathroom\n",
      "story:\n",
      "0.00000 \t 0 Daniel moved to the office .\n",
      "0.00000 \t 1 Daniel moved to the bedroom .\n",
      "0.00000 \t 3 Sandra went to the garden .\n",
      "0.00058 \t 4 Daniel went to the office .\n",
      "0.00000 \t 6 Sandra went to the office .\n",
      "0.00000 \t 7 Mary travelled to the hallway .\n",
      "0.99940 \t 9 Daniel went to the bathroom .\n",
      "0.00001 \t 10 Sandra went to the bathroom .\n",
      "Continue? [Y/n]Y\n",
      "question:\n",
      " Where is John ?\n",
      "prediction:  bedroom\n",
      "answer:  bedroom\n",
      "story:\n",
      "0.00000 \t 0 Daniel moved to the bathroom .\n",
      "0.99999 \t 1 John journeyed to the bedroom .\n",
      "Continue? [Y/n]Y\n",
      "question:\n",
      " Where is Mary ?\n",
      "prediction:  bathroom\n",
      "answer:  bathroom\n",
      "story:\n",
      "0.00000 \t 0 Daniel went to the garden .\n",
      "0.00000 \t 1 Daniel moved to the kitchen .\n",
      "0.00000 \t 3 John moved to the bedroom .\n",
      "0.00922 \t 4 Mary went to the bedroom .\n",
      "0.00000 \t 6 Daniel travelled to the hallway .\n",
      "0.99078 \t 7 Mary moved to the bathroom .\n",
      "Continue? [Y/n]Y\n",
      "question:\n",
      " Where is John ?\n",
      "prediction:  garden\n",
      "answer:  garden\n",
      "story:\n",
      "0.00000 \t 0 Daniel went to the office .\n",
      "0.00000 \t 1 Daniel went back to the hallway .\n",
      "0.00000 \t 3 John went back to the office .\n",
      "0.00000 \t 4 Daniel journeyed to the kitchen .\n",
      "0.00000 \t 6 Mary journeyed to the bathroom .\n",
      "0.00026 \t 7 John travelled to the hallway .\n",
      "0.00000 \t 9 Mary journeyed to the bedroom .\n",
      "0.00000 \t 10 Sandra journeyed to the garden .\n",
      "0.99972 \t 12 John journeyed to the garden .\n",
      "0.00003 \t 13 Mary went to the bathroom .\n",
      "Continue? [Y/n]Y\n",
      "question:\n",
      " Where is John ?\n",
      "prediction:  bathroom\n",
      "answer:  bathroom\n",
      "story:\n",
      "0.00072 \t 0 John travelled to the kitchen .\n",
      "0.00000 \t 1 Sandra went back to the garden .\n",
      "0.99926 \t 3 John went to the bathroom .\n",
      "0.00002 \t 4 Sandra went to the office .\n",
      "Continue? [Y/n]Y\n",
      "question:\n",
      " Where is Daniel ?\n",
      "prediction:  hallway\n",
      "answer:  hallway\n",
      "story:\n",
      "0.00000 \t 0 Mary went back to the bedroom .\n",
      "0.00666 \t 1 Daniel went to the garden .\n",
      "0.05791 \t 3 Daniel moved to the office .\n",
      "0.93544 \t 4 Daniel went to the hallway .\n",
      "Continue? [Y/n]Y\n",
      "question:\n",
      " Where is Daniel ?\n",
      "prediction:  hallway\n",
      "answer:  hallway\n",
      "story:\n",
      "0.00000 \t 0 Sandra journeyed to the kitchen .\n",
      "0.99992 \t 1 Daniel moved to the hallway .\n",
      "Continue? [Y/n]zn\n",
      "question:\n",
      " Where is Mary ?\n",
      "prediction:  bathroom\n",
      "answer:  bathroom\n",
      "story:\n",
      "0.00000 \t 0 John went to the hallway .\n",
      "0.00000 \t 1 Daniel moved to the bedroom .\n",
      "0.00000 \t 3 John went back to the bedroom .\n",
      "0.00000 \t 4 John travelled to the garden .\n",
      "0.00000 \t 6 Sandra went back to the kitchen .\n",
      "0.00004 \t 7 Mary went back to the garden .\n",
      "0.00000 \t 9 Daniel went to the office .\n",
      "0.00182 \t 10 Mary moved to the kitchen .\n",
      "0.00000 \t 12 Daniel travelled to the bedroom .\n",
      "0.99813 \t 13 Mary went back to the bathroom .\n",
      "Continue? [Y/n]Y\n",
      "question:\n",
      " Where is Daniel ?\n",
      "prediction:  garden\n",
      "answer:  garden\n",
      "story:\n",
      "0.00566 \t 0 Daniel travelled to the kitchen .\n",
      "0.99431 \t 1 Daniel journeyed to the garden .\n",
      "Continue? [Y/n]N\n"
     ]
    }
   ],
   "source": [
    "# Check how sentences are weighted given a story and question\n",
    "while True:   \n",
    "    # randomly pick up a story\n",
    "    story_idx = np.random.choice(len(train_stories))\n",
    "    i = inputs_train[story_idx:story_idx+1]\n",
    "    q = queries_train[story_idx:story_idx+1]\n",
    "    w = debug_model.predict([i, q]).flatten()\n",
    "\n",
    "    story, question, ans = train_stories[story_idx]  \n",
    "    print(\"question:\\n\", \" \".join(question))\n",
    "    print(\"prediction: \", vocab[np.argmax(model.predict([i,q])[0])])\n",
    "    print(\"answer: \", ans)\n",
    "    print(\"story:\")\n",
    "    for i, line in enumerate(story):\n",
    "        print(\"{:1.5f}\".format(w[i]), \"\\t\", \" \".join(line))\n",
    "    \n",
    "    interact = input(\"Continue? [Y/n]\")\n",
    "    if interact and interact.lower().startswith('n'):\n",
    "        break"
   ]
  },
  {
   "cell_type": "markdown",
   "metadata": {},
   "source": [
    "## Two supporting facts"
   ]
  },
  {
   "cell_type": "code",
   "execution_count": 15,
   "metadata": {},
   "outputs": [
    {
     "name": "stderr",
     "output_type": "stream",
     "text": [
      "/Users/yuanjing/anaconda3/lib/python3.6/re.py:212: FutureWarning: split() requires a non-empty pattern match.\n",
      "  return _compile(pattern, flags).split(string, maxsplit)\n"
     ]
    },
    {
     "name": "stdout",
     "output_type": "stream",
     "text": [
      "inputs_train.shape:  (10000, 88, 8)\n",
      "inputs_test.shape:  (1000, 88, 8)\n"
     ]
    }
   ],
   "source": [
    "train_stories, test_stories, \\\n",
    "    inputs_train, queries_train, answers_train, \\\n",
    "    inputs_test, queries_test, answers_test, \\\n",
    "    story_maxsents, story_maxlen, query_maxlen, \\\n",
    "    vocab, vocab_size = get_data('two_supporting_facts_10k')"
   ]
  },
  {
   "cell_type": "markdown",
   "metadata": {},
   "source": [
    "### Model building and training"
   ]
  },
  {
   "cell_type": "code",
   "execution_count": 16,
   "metadata": {
    "collapsed": true
   },
   "outputs": [],
   "source": [
    "# two hops in model utilizing two facts\n",
    "# output the answer from the 1st hop and serve as the new \"question\" in the second hop\n",
    "# output the answer from the 2nd hop as the final anser\n",
    "embedding = 30\n",
    "\n",
    "def embed_and_sum(x, axis = 2):\n",
    "    x = Embedding(vocab_size, embedding_dim)(x)\n",
    "    x = Lambda(lambda x: K.sum(x, axis))(x)\n",
    "    return x\n",
    "\n",
    "input_story_ = Input((story_maxsents, story_maxlen))\n",
    "input_question_ = Input((query_maxlen,))\n",
    "\n",
    "embedded_story = embed_and_sum(input_story_)\n",
    "embedded_question = embed_and_sum(input_question_, axis = 1)\n",
    "dense_layer = Dense(embedding_dim, activation = 'elu')\n",
    "\n",
    "def hop(query, story):\n",
    "    x = Reshape((1, embedding_dim))(query)\n",
    "    x = dot([story, x], 2)\n",
    "    x = Reshape((story_maxsents,))(x)\n",
    "    x = Activation('softmax')(x)\n",
    "    story_weights = Reshape((story_maxsents, 1))(x)\n",
    "    \n",
    "    story_embedding2 = embed_and_sum(input_story_)\n",
    "    x = dot([story_weights, story_embedding2], 1)\n",
    "    x = Reshape((embedding_dim,))(x)\n",
    "    x = dense_layer(x)\n",
    "    return x, story_embedding2, story_weights\n",
    "\n",
    "\n",
    "ans1, embedded_story, story_weights1 = hop(embedded_question, embedded_story)\n",
    "ans2, _, story_weights2 = hop(ans1, embedded_story)\n",
    "ans = Dense(vocab_size, activation = 'softmax')(ans2)"
   ]
  },
  {
   "cell_type": "code",
   "execution_count": 17,
   "metadata": {
    "collapsed": true
   },
   "outputs": [],
   "source": [
    "model2 = Model([input_story_, input_question_], ans)\n",
    "model2.compile(\n",
    "    optimizer = RMSprop(lr = 5e-3),\n",
    "    loss = 'sparse_categorical_crossentropy',\n",
    "    metrics = ['accuracy']\n",
    ")"
   ]
  },
  {
   "cell_type": "code",
   "execution_count": 18,
   "metadata": {},
   "outputs": [
    {
     "name": "stdout",
     "output_type": "stream",
     "text": [
      "Train on 10000 samples, validate on 1000 samples\n",
      "Epoch 1/30\n",
      "10000/10000 [==============================] - 7s 688us/step - loss: 1.8294 - acc: 0.2186 - val_loss: 1.6283 - val_acc: 0.3430\n",
      "Epoch 2/30\n",
      "10000/10000 [==============================] - 7s 668us/step - loss: 1.5447 - acc: 0.3637 - val_loss: 1.4457 - val_acc: 0.3940\n",
      "Epoch 3/30\n",
      "10000/10000 [==============================] - 7s 669us/step - loss: 0.9601 - acc: 0.6339 - val_loss: 0.7338 - val_acc: 0.7250\n",
      "Epoch 4/30\n",
      "10000/10000 [==============================] - 6s 637us/step - loss: 0.6540 - acc: 0.7562 - val_loss: 0.6002 - val_acc: 0.7850\n",
      "Epoch 5/30\n",
      "10000/10000 [==============================] - 6s 649us/step - loss: 0.5591 - acc: 0.7926 - val_loss: 0.6018 - val_acc: 0.7760\n",
      "Epoch 6/30\n",
      "10000/10000 [==============================] - 7s 657us/step - loss: 0.5011 - acc: 0.8173 - val_loss: 0.5499 - val_acc: 0.8030\n",
      "Epoch 7/30\n",
      "10000/10000 [==============================] - 7s 670us/step - loss: 0.4485 - acc: 0.8397 - val_loss: 0.5334 - val_acc: 0.7890\n",
      "Epoch 8/30\n",
      "10000/10000 [==============================] - 7s 672us/step - loss: 0.4077 - acc: 0.8574 - val_loss: 0.4715 - val_acc: 0.8120\n",
      "Epoch 9/30\n",
      "10000/10000 [==============================] - 6s 643us/step - loss: 0.3844 - acc: 0.8673 - val_loss: 0.4860 - val_acc: 0.8210\n",
      "Epoch 10/30\n",
      "10000/10000 [==============================] - 7s 660us/step - loss: 0.3644 - acc: 0.8733 - val_loss: 0.4439 - val_acc: 0.8440\n",
      "Epoch 11/30\n",
      "10000/10000 [==============================] - 7s 659us/step - loss: 0.3411 - acc: 0.8854 - val_loss: 0.4196 - val_acc: 0.8530\n",
      "Epoch 12/30\n",
      "10000/10000 [==============================] - 7s 659us/step - loss: 0.3225 - acc: 0.8915 - val_loss: 0.4242 - val_acc: 0.8520\n",
      "Epoch 13/30\n",
      "10000/10000 [==============================] - 7s 662us/step - loss: 0.3064 - acc: 0.8958 - val_loss: 0.4838 - val_acc: 0.8500\n",
      "Epoch 14/30\n",
      "10000/10000 [==============================] - 7s 659us/step - loss: 0.3004 - acc: 0.8995 - val_loss: 0.4741 - val_acc: 0.8530\n",
      "Epoch 15/30\n",
      "10000/10000 [==============================] - 7s 651us/step - loss: 0.2917 - acc: 0.9062 - val_loss: 0.3945 - val_acc: 0.8590\n",
      "Epoch 16/30\n",
      "10000/10000 [==============================] - 7s 667us/step - loss: 0.2810 - acc: 0.9084 - val_loss: 0.3727 - val_acc: 0.8740\n",
      "Epoch 17/30\n",
      "10000/10000 [==============================] - 7s 662us/step - loss: 0.2758 - acc: 0.9098 - val_loss: 0.3697 - val_acc: 0.8750\n",
      "Epoch 18/30\n",
      "10000/10000 [==============================] - 7s 660us/step - loss: 0.2547 - acc: 0.9159 - val_loss: 0.4151 - val_acc: 0.8750\n",
      "Epoch 19/30\n",
      "10000/10000 [==============================] - 6s 644us/step - loss: 0.2557 - acc: 0.9159 - val_loss: 0.3459 - val_acc: 0.8740\n",
      "Epoch 20/30\n",
      "10000/10000 [==============================] - 7s 691us/step - loss: 0.2427 - acc: 0.9202 - val_loss: 0.3592 - val_acc: 0.8840\n",
      "Epoch 21/30\n",
      "10000/10000 [==============================] - 7s 683us/step - loss: 0.2410 - acc: 0.9260 - val_loss: 0.3814 - val_acc: 0.8680\n",
      "Epoch 22/30\n",
      "10000/10000 [==============================] - 7s 690us/step - loss: 0.2293 - acc: 0.9260 - val_loss: 0.3220 - val_acc: 0.8810\n",
      "Epoch 23/30\n",
      "10000/10000 [==============================] - 7s 687us/step - loss: 0.2235 - acc: 0.9289 - val_loss: 0.3607 - val_acc: 0.8850\n",
      "Epoch 24/30\n",
      "10000/10000 [==============================] - 7s 689us/step - loss: 0.2166 - acc: 0.9315 - val_loss: 0.3415 - val_acc: 0.8970\n",
      "Epoch 25/30\n",
      "10000/10000 [==============================] - 7s 666us/step - loss: 0.2159 - acc: 0.9322 - val_loss: 0.4057 - val_acc: 0.9020\n",
      "Epoch 26/30\n",
      "10000/10000 [==============================] - 7s 685us/step - loss: 0.2044 - acc: 0.9353 - val_loss: 0.3421 - val_acc: 0.8960\n",
      "Epoch 27/30\n",
      "10000/10000 [==============================] - 7s 697us/step - loss: 0.2017 - acc: 0.9378 - val_loss: 0.3708 - val_acc: 0.8960\n",
      "Epoch 28/30\n",
      "10000/10000 [==============================] - 7s 700us/step - loss: 0.2023 - acc: 0.9353 - val_loss: 0.3291 - val_acc: 0.8960\n",
      "Epoch 29/30\n",
      "10000/10000 [==============================] - 7s 672us/step - loss: 0.1985 - acc: 0.9393 - val_loss: 0.3261 - val_acc: 0.9020\n",
      "Epoch 30/30\n",
      "10000/10000 [==============================] - 7s 665us/step - loss: 0.1848 - acc: 0.9438 - val_loss: 0.3510 - val_acc: 0.8900\n"
     ]
    }
   ],
   "source": [
    "r = model2.fit(\n",
    "    [inputs_train, queries_train],\n",
    "    answers_train,\n",
    "    epochs = 30,\n",
    "    batch_size = 32,\n",
    "    validation_data = ([inputs_test, queries_test], answers_test)\n",
    ")"
   ]
  },
  {
   "cell_type": "markdown",
   "metadata": {},
   "source": [
    "### Model testing"
   ]
  },
  {
   "cell_type": "code",
   "execution_count": 19,
   "metadata": {},
   "outputs": [],
   "source": [
    "debug_model2 = Model(\n",
    "    [input_story_, input_question_],\n",
    "    [story_weights1, story_weights2]\n",
    ")"
   ]
  },
  {
   "cell_type": "code",
   "execution_count": 20,
   "metadata": {},
   "outputs": [
    {
     "name": "stdout",
     "output_type": "stream",
     "text": [
      "question:\n",
      " Where is the football ?\n",
      "prediction:  bathroom\n",
      "answer:  bathroom\n",
      "story:\n",
      "0.00000 \t 0.00000 \t 0 Sandra went back to the bathroom .\n",
      "0.00000 \t 0.00000 \t 1 Mary went to the office .\n",
      "0.00000 \t 0.00000 \t 2 John went back to the bedroom .\n",
      "0.00000 \t 0.00000 \t 3 Sandra went to the garden .\n",
      "0.00000 \t 0.00000 \t 4 Sandra moved to the bedroom .\n",
      "0.00000 \t 0.00000 \t 5 John picked up the apple there .\n",
      "0.00000 \t 0.00000 \t 6 John discarded the apple .\n",
      "0.00000 \t 0.00000 \t 7 John travelled to the bathroom .\n",
      "0.00000 \t 0.00001 \t 9 John went to the kitchen .\n",
      "0.00000 \t 0.00000 \t 10 Sandra travelled to the garden .\n",
      "0.00000 \t 0.00000 \t 12 Daniel went back to the bathroom .\n",
      "0.00000 \t 0.00000 \t 13 Daniel went to the garden .\n",
      "0.00000 \t 0.00000 \t 14 Daniel travelled to the kitchen .\n",
      "0.00000 \t 0.00000 \t 15 Mary went back to the bedroom .\n",
      "0.00000 \t 0.00000 \t 16 Mary went back to the garden .\n",
      "0.00000 \t 0.10388 \t 17 John went back to the hallway .\n",
      "1.00000 \t 0.00000 \t 18 John grabbed the football there .\n",
      "0.00000 \t 0.89611 \t 19 John went to the bathroom .\n",
      "Continue? [Y/n]Y\n",
      "question:\n",
      " Where is the apple ?\n",
      "prediction:  kitchen\n",
      "answer:  bedroom\n",
      "story:\n",
      "0.00000 \t 0.00000 \t 0 Daniel travelled to the bedroom .\n",
      "0.00000 \t 0.00000 \t 1 Daniel went back to the bathroom .\n",
      "0.00000 \t 0.00000 \t 2 Daniel travelled to the office .\n",
      "0.00000 \t 0.00000 \t 3 Daniel got the football there .\n",
      "0.00000 \t 0.00001 \t 4 Mary moved to the hallway .\n",
      "0.00000 \t 0.00000 \t 5 Mary took the apple there .\n",
      "0.00000 \t 0.00000 \t 6 Daniel travelled to the garden .\n",
      "0.00000 \t 0.00000 \t 7 Mary dropped the apple .\n",
      "0.00000 \t 0.00000 \t 9 Sandra got the apple there .\n",
      "0.00000 \t 0.16707 \t 10 Sandra went to the bathroom .\n",
      "0.00000 \t 0.70457 \t 12 Sandra went to the kitchen .\n",
      "0.00000 \t 0.00091 \t 13 Mary journeyed to the office .\n",
      "0.00000 \t 0.12577 \t 15 Sandra travelled to the bedroom .\n",
      "1.00000 \t 0.00000 \t 16 Sandra put down the apple there .\n",
      "0.00000 \t 0.00166 \t 18 Sandra journeyed to the hallway .\n",
      "0.00000 \t 0.00000 \t 19 Mary picked up the milk there .\n",
      "Continue? [Y/n]Y\n",
      "question:\n",
      " Where is the apple ?\n",
      "prediction:  garden\n",
      "answer:  garden\n",
      "story:\n",
      "0.00000 \t 0.00000 \t 0 John got the apple there .\n",
      "0.00000 \t 0.00001 \t 1 Sandra went to the hallway .\n",
      "0.00000 \t 0.00000 \t 2 Mary went back to the garden .\n",
      "0.00000 \t 0.00000 \t 3 Mary went back to the bedroom .\n",
      "0.00000 \t 0.00000 \t 4 Mary journeyed to the garden .\n",
      "0.00000 \t 0.00001 \t 5 Daniel went to the office .\n",
      "0.00000 \t 0.00003 \t 6 Sandra went to the kitchen .\n",
      "0.00000 \t 0.12212 \t 7 John went to the bedroom .\n",
      "0.00000 \t 0.00005 \t 8 Daniel went back to the hallway .\n",
      "0.00000 \t 0.29431 \t 9 John went to the kitchen .\n",
      "0.00000 \t 0.58342 \t 10 John journeyed to the garden .\n",
      "1.00000 \t 0.00000 \t 11 John dropped the apple .\n",
      "0.00000 \t 0.00000 \t 13 Sandra moved to the office .\n",
      "0.00000 \t 0.00004 \t 14 John moved to the kitchen .\n",
      "0.00000 \t 0.00000 \t 16 Mary went back to the bedroom .\n",
      "0.00000 \t 0.00000 \t 17 Sandra went to the hallway .\n",
      "Continue? [Y/n]Y\n",
      "question:\n",
      " Where is the football ?\n",
      "prediction:  garden\n",
      "answer:  garden\n",
      "story:\n",
      "0.00000 \t 0.00000 \t 0 Sandra grabbed the football there .\n",
      "0.00000 \t 0.00000 \t 1 Sandra journeyed to the hallway .\n",
      "0.00000 \t 0.00000 \t 3 Sandra discarded the football .\n",
      "0.00000 \t 0.00000 \t 4 Mary went back to the kitchen .\n",
      "0.00000 \t 0.00001 \t 6 Mary went back to the hallway .\n",
      "0.00000 \t 0.00000 \t 7 Sandra picked up the football there .\n",
      "0.00000 \t 0.00000 \t 8 Sandra left the football .\n",
      "0.00000 \t 0.00000 \t 9 John travelled to the kitchen .\n",
      "0.00000 \t 0.00000 \t 11 John went to the bathroom .\n",
      "0.00000 \t 0.00000 \t 12 Sandra journeyed to the bathroom .\n",
      "0.00000 \t 0.00000 \t 14 Daniel travelled to the kitchen .\n",
      "0.00000 \t 0.00000 \t 15 Daniel grabbed the apple there .\n",
      "1.00000 \t 0.00000 \t 16 Mary grabbed the football there .\n",
      "0.00000 \t 0.99999 \t 17 Mary travelled to the garden .\n",
      "Continue? [Y/n]Y\n",
      "question:\n",
      " Where is the football ?\n",
      "prediction:  bathroom\n",
      "answer:  garden\n",
      "story:\n",
      "0.00000 \t 0.00000 \t 0 Daniel grabbed the apple there .\n",
      "0.00000 \t 0.00000 \t 1 Daniel discarded the apple .\n",
      "0.00000 \t 0.00000 \t 2 Sandra picked up the football there .\n",
      "0.00000 \t 0.00000 \t 3 John travelled to the office .\n",
      "0.00000 \t 0.00000 \t 4 Mary journeyed to the bathroom .\n",
      "0.00000 \t 0.00000 \t 5 John travelled to the garden .\n",
      "0.00000 \t 0.78115 \t 6 Sandra travelled to the bathroom .\n",
      "0.00000 \t 0.00000 \t 7 John got the milk there .\n",
      "0.00000 \t 0.21885 \t 8 Sandra journeyed to the garden .\n",
      "1.00000 \t 0.00000 \t 9 Sandra left the football there .\n",
      "Continue? [Y/n]Y\n",
      "question:\n",
      " Where is the apple ?\n",
      "prediction:  hallway\n",
      "answer:  hallway\n",
      "story:\n",
      "0.00000 \t 0.00000 \t 0 Mary picked up the apple there .\n",
      "0.00000 \t 0.99996 \t 1 Mary went back to the hallway .\n",
      "0.00000 \t 0.00000 \t 3 Daniel got the football there .\n",
      "1.00000 \t 0.00003 \t 4 Mary put down the apple there .\n",
      "Continue? [Y/n]N\n"
     ]
    }
   ],
   "source": [
    "while True:   \n",
    "    # randomly pick up a story\n",
    "    story_idx = np.random.choice(len(train_stories))\n",
    "    i = inputs_train[story_idx:story_idx+1]\n",
    "    q = queries_train[story_idx:story_idx+1]\n",
    "    w1, w2 = debug_model2.predict([i, q])\n",
    "    w1 = w1.flatten()\n",
    "    w2 = w2.flatten()\n",
    "    \n",
    "    story, question, ans = train_stories[story_idx]  \n",
    "    print(\"question:\\n\", \" \".join(question))\n",
    "    print(\"prediction: \", vocab[np.argmax(model2.predict([i,q])[0])])\n",
    "    print(\"answer: \", ans)\n",
    "    print(\"story:\")\n",
    "    for j, line in enumerate(story):\n",
    "        print(\"{:1.5f}\".format(w1[j]), \"\\t\", \"{:1.5f}\".format(w2[j]), \"\\t\", \" \".join(line))\n",
    "    \n",
    "    interact = input(\"Continue? [Y/n]\")\n",
    "    if interact and interact.lower().startswith('n'):\n",
    "        break\n",
    "\n"
   ]
  },
  {
   "cell_type": "code",
   "execution_count": 21,
   "metadata": {},
   "outputs": [
    {
     "data": {
      "image/png": "[encoded data removed]",
      "text/plain": [
       "<matplotlib.figure.Figure at 0x181dc2f278>"
      ]
     },
     "metadata": {},
     "output_type": "display_data"
    },
    {
     "data": {
      "image/png": "[encoded data removed]",
      "text/plain": [
       "<matplotlib.figure.Figure at 0x181e5f2f60>"
      ]
     },
     "metadata": {},
     "output_type": "display_data"
    }
   ],
   "source": [
    "# visualize loss and accuracy\n",
    "plt.plot(r.history['loss'], label='loss')\n",
    "plt.plot(r.history['val_loss'], label='val_loss')\n",
    "plt.legend()\n",
    "plt.show()\n",
    "\n",
    "plt.plot(r.history['acc'], label='acc')\n",
    "plt.plot(r.history['val_acc'], label='val_acc')\n",
    "plt.legend()\n",
    "plt.show()"
   ]
  },
  {
   "cell_type": "code",
   "execution_count": null,
   "metadata": {
    "collapsed": true
   },
   "outputs": [],
   "source": []
  }
 ],
 "metadata": {
  "kernelspec": {
   "display_name": "Python 3",
   "language": "python",
   "name": "python3"
  },
  "language_info": {
   "codemirror_mode": {
    "name": "ipython",
    "version": 3
   },
   "file_extension": ".py",
   "mimetype": "text/x-python",
   "name": "python",
   "nbconvert_exporter": "python",
   "pygments_lexer": "ipython3",
   "version": "3.6.3"
  }
 },
 "nbformat": 4,
 "nbformat_minor": 2
}
