{
 "cells": [
  {
   "cell_type": "code",
   "execution_count": 1,
   "metadata": {
    "collapsed": true
   },
   "outputs": [],
   "source": [
    "import numpy as np\n",
    "import theano\n",
    "import theano.tensor as T"
   ]
  },
  {
   "cell_type": "code",
   "execution_count": 2,
   "metadata": {
    "collapsed": true
   },
   "outputs": [],
   "source": [
    "def init_weight(Mi, Mo):\n",
    "    return np.random.randn(Mi, Mo) / np.sqrt(Mi + Mo)"
   ]
  },
  {
   "cell_type": "code",
   "execution_count": 3,
   "metadata": {
    "collapsed": true
   },
   "outputs": [],
   "source": [
    "class LSTM:\n",
    "    def __init__(self, Mi, Mo, activation):\n",
    "        self.Mi = Mi\n",
    "        self.Mo = Mo\n",
    "        self.f = activation\n",
    "        \n",
    "        Wxi = init_weight(Mi, Mo)\n",
    "        Whi = init_weight(Mo, Mo)\n",
    "        Wci = init_weight(Mo, Mo)\n",
    "        bi = np.zeros(Mo)\n",
    "        Wxf = init_weight(Mi, Mo)\n",
    "        Whf = init_weight(Mo, Mo)\n",
    "        Wcf = init_weight(Mo, Mo)\n",
    "        bf = np.zeros(Mo)\n",
    "        Wxc = init_weight(Mi, Mo)\n",
    "        Whc = init_weight(Mo, Mo)\n",
    "        bc = np.zeros(Mo)\n",
    "        Wxo = init_weight(Mi, Mo)\n",
    "        Who = init_weight(Mo, Mo)\n",
    "        Wco = init_weight(Mo, Mo)\n",
    "        bo = np.zeros(Mo)\n",
    "        c0 = np.zeros(Mo)\n",
    "        h0 = np.zeros(Mo)\n",
    "        \n",
    "        self.Wxi = theano.shared(Wxi)\n",
    "        self.Whi = theano.shared(Whi)\n",
    "        self.Wci = theano.shared(Wci)\n",
    "        self.bi = theano.shared(bi)\n",
    "        self.Wxf = theano.shared(Wxf)\n",
    "        self.Whf = theano.shared(Whf)\n",
    "        self.Wcf = theano.shared(Wcf)\n",
    "        self.bf = theano.shared(bf)\n",
    "        self.Wxc = theano.shared(Wxc)\n",
    "        self.Whc = theano.shared(Whc)\n",
    "        self.bc = theano.shared(bc)\n",
    "        self.Wxo = theano.shared(Wxo)\n",
    "        self.Who = theano.shared(Who)\n",
    "        self.Wco = theano.shared(Wco)\n",
    "        self.bo = theano.shared(bo)\n",
    "        self.c0 = theano.shared(c0)\n",
    "        self.h0 = theano.shared(h0)\n",
    "        self.params = [\n",
    "            self.Wxi, self.Whi, self.Wci, self.bi, \n",
    "            self.Wxf, self.Whf, self.Wcf, self.bf,\n",
    "            self.Wxc, self.Whc, self.bc,\n",
    "            self.Wxo, self.Who, self.Wco, self.bo,\n",
    "            self.c0, self.h0\n",
    "        ]\n",
    "        \n",
    "    def recurrence(self, x_t, h_t1, c_t1):\n",
    "        i = T.nnet.sigmoid(x_t.dot(self.Wxi) + h_t1.dot(self.Whi) + c_t1.dot(self.Wci) + self.bi)\n",
    "        f = T.nnet.sigmoid(x_t.dot(self.Wxf) + h_t1.dot(self.Whf) + c_t1.dot(self.Wcf) + self.bf)\n",
    "        c_t = f*c_t1 + i*T.tanh(x_t.dot(self.Wxc) + h_t1.dot(self.Whc) + self.bc)\n",
    "        o = T.nnet.sigmoid(x_t.dot(self.Wxo) + h_t1.dot(self.Who) + c_t.dot(self.Wco) + self.bo)\n",
    "        h_t = o*T.tanh(c_t)\n",
    "        return h_t, c_t\n",
    "    \n",
    "    def output(self, x):\n",
    "        [h, c], _ = theano.scan(\n",
    "            fn = self.recurrence,\n",
    "            sequences = x,\n",
    "            outputs_info = [self.h0, self.c0],\n",
    "            n_steps = x.shape[0],\n",
    "        )\n",
    "        return h\n",
    "\n",
    "\n",
    "        "
   ]
  },
  {
   "cell_type": "code",
   "execution_count": null,
   "metadata": {
    "collapsed": true
   },
   "outputs": [],
   "source": []
  }
 ],
 "metadata": {
  "kernelspec": {
   "display_name": "Python 3",
   "language": "python",
   "name": "python3"
  },
  "language_info": {
   "codemirror_mode": {
    "name": "ipython",
    "version": 3
   },
   "file_extension": ".py",
   "mimetype": "text/x-python",
   "name": "python",
   "nbconvert_exporter": "python",
   "pygments_lexer": "ipython3",
   "version": "3.6.3"
  }
 },
 "nbformat": 4,
 "nbformat_minor": 2
}
